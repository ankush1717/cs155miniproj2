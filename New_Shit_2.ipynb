{
 "cells": [
  {
   "cell_type": "code",
   "execution_count": 167,
   "metadata": {},
   "outputs": [],
   "source": [
    "import numpy as np\n",
    "import seaborn as sns\n",
    "import pandas as pd\n",
    "\n",
    "# Matrix Factorization Code from Set 5\n",
    "\n",
    "Y_train = np.loadtxt('train.txt').astype(int)\n",
    "Y_test = np.loadtxt('test.txt').astype(int)\n",
    "mu = np.mean(Y_train)"
   ]
  },
  {
   "cell_type": "code",
   "execution_count": 168,
   "metadata": {},
   "outputs": [],
   "source": [
    "def grad_U(Ui, Yij, Vj, reg, eta, Ai, Bj, bias):\n",
    "    \"\"\"\n",
    "    Takes as input Ui (the ith row of U), a training point Yij, the column\n",
    "    vector Vj (jth column of V^T), reg (the regularization parameter lambda),\n",
    "    and eta (the learning rate).\n",
    "\n",
    "    Returns the gradient of the regularized loss function with\n",
    "    respect to Ui multiplied by eta.\n",
    "    \"\"\"\n",
    "    \n",
    "    if bias == False:\n",
    "        Ai = 0\n",
    "        Bj = 0\n",
    "    \n",
    "    \n",
    "    return eta*(reg*Ui - np.dot(Vj, (Yij - np.dot(Ui, Vj) + Ai + Bj)))\n",
    "\n",
    "def grad_V(Vj, Yij, Ui, reg, eta, Ai, Bj, bias):\n",
    "    \"\"\"\n",
    "    Takes as input the column vector Vj (jth column of V^T), a training point Yij,\n",
    "    Ui (the ith row of U), reg (the regularization parameter lambda),\n",
    "    and eta (the learning rate).\n",
    "\n",
    "    Returns the gradient of the regularized loss function with\n",
    "    respect to Vj multiplied by eta.\n",
    "    \"\"\"\n",
    "    if bias == False:\n",
    "        Ai = 0\n",
    "        Bj = 0\n",
    "        \n",
    "    return eta*(reg*Vj - np.dot(Ui,(Yij - np.dot(Ui, Vj) + Ai + Bj)))\n",
    "\n",
    "def grad_A(Vj, Yij, Ui, reg, eta, Ai, Bj):\n",
    "\n",
    "    return eta*(reg*Ai - (Yij - (np.dot(Ui,Vj) + Ai + Bj)))\n",
    "\n",
    "def grad_B(Vj, Yij, Ui, reg, eta, Ai, Bj):\n",
    "\n",
    "    return eta*(reg*Bj - (Yij - (np.dot(Ui,Vj) + Ai + Bj)))\n",
    "\n",
    "def get_err(U, V, Y, A, B, bias, reg=0.0):\n",
    "    \"\"\"\n",
    "    Takes as input a matrix Y of triples (i, j, Y_ij) where i is the index of a user,\n",
    "    j is the index of a movie, and Y_ij is user i's rating of movie j and\n",
    "    user/movie matrices U and V.\n",
    "\n",
    "    Returns the mean regularized squared-error of predictions made by\n",
    "    estimating Y_{ij} as the dot product of the ith row of U and the jth column of V^T.\n",
    "    \"\"\"\n",
    "    if bias: \n",
    "        first_term = 0.5*reg*(np.linalg.norm(U, ord='fro')**2 + np.linalg.norm(V, ord='fro')**2)\n",
    "        second_term = 0\n",
    "        for index in range(len(Y)):\n",
    "            (i, j, Yij) = Y[index]\n",
    "            second_term += (0.5 * (Yij - (np.dot(U[i - 1], V[j - 1])) + A[i-1] + B[j-1])**2)\n",
    "        return (first_term + second_term)/len(Y)\n",
    "    \n",
    "    else:\n",
    "        first_term = 0.5*reg*(np.linalg.norm(U, ord='fro')**2 + np.linalg.norm(V, ord='fro')**2)\n",
    "        second_term = 0\n",
    "        for index in range(len(Y)):\n",
    "            (i, j, Yij) = Y[index]\n",
    "            second_term += (0.5 * (Yij - (np.dot(U[i - 1], V[j - 1]))))\n",
    "        return (first_term + second_term)/len(Y)\n",
    "\n",
    "\n",
    "def get_err_bias(U, V, Y, A, B, bias, reg=0.0):\n",
    "    \"\"\"\n",
    "    Takes as input a matrix Y of triples (i, j, Y_ij) where i is the index of a user,\n",
    "    j is the index of a movie, and Y_ij is user i's rating of movie j and\n",
    "    user/movie matrices U and V.\n",
    "\n",
    "    Returns the mean regularized squared-error of predictions made by\n",
    "    estimating Y_{ij} as the dot product of the ith row of U and the jth column of V^T.\n",
    "    \"\"\"\n",
    "\n",
    "    first_term = 0.5*reg*(np.linalg.norm(U, ord='fro')**2 + np.linalg.norm(V, ord='fro')**2)\n",
    "    second_term = 0\n",
    "    for index in range(len(Y)):\n",
    "        (i, j, Yij) = Y[index]\n",
    "        second_term += (0.5 * (Yij - (np.dot(U[i - 1], V[j - 1])) + A[i-1] + B[j-1])**2)\n",
    "    return (first_term + second_term)/len(Y)\n",
    "\n",
    "\n",
    "\n",
    "def train_model(M, N, K, eta, reg, Y, bias, eps=0.0001, max_epochs=300):\n",
    "    \"\"\"\n",
    "    Given a training data matrix Y containing rows (i, j, Y_ij)\n",
    "    where Y_ij is user i's rating on movie j, learns an\n",
    "    M x K matrix U and N x K matrix V such that rating Y_ij is approximated\n",
    "    by (UV^T)_ij.\n",
    "\n",
    "    Uses a learning rate of <eta> and regularization of <reg>. Stops after\n",
    "    <max_epochs> epochs, or once the magnitude of the decrease in regularized\n",
    "    MSE between epochs is smaller than a fraction <eps> of the decrease in\n",
    "    MSE after the first epoch.\n",
    "\n",
    "    Returns a tuple (U, V, err) consisting of U, V, and the unregularized MSE\n",
    "    of the model.\n",
    "    \"\"\"\n",
    "    \n",
    "    \n",
    "    A = np.random.uniform(-0.5, 0.5, size = (M, ))\n",
    "    B = np.random.uniform(-0.5, 0.5, size = (N, ))\n",
    "        \n",
    "    U = np.random.uniform(-0.5, 0.5, size = (M, K))\n",
    "    V = np.random.uniform(-0.5, 0.5, size = (N, K))\n",
    "    \n",
    "    \n",
    "    MSE_before = get_err_bias(U, V, Y, A, B, bias, reg)\n",
    "    for epoch in range(max_epochs):\n",
    "        #print(epoch)\n",
    "        #print(MSE_before)\n",
    "        \n",
    "#         print(\"U:\", U[0,:])\n",
    "#         print(\"V:\", V[0,:])\n",
    "        np.random.shuffle(Y)\n",
    "        for index in range(len(Y)):\n",
    "            (i, j, Yij) = Y[index]\n",
    "            # Updates with gradient descent\n",
    "            u_grad = grad_U(U[i-1], Yij, V[j-1], reg, eta, A[i-1], B[i-1], bias)\n",
    "            v_grad = grad_V(V[j-1], Yij, U[i-1], reg, eta, A[i-1], B[i-1], bias)\n",
    "            a_grad = grad_A(V[j-1], Yij, U[i-1], reg, eta, A[i-1], B[j-1])\n",
    "            b_grad = grad_B(V[j-1], Yij, U[i-1], reg, eta, A[i-1], B[j-1])\n",
    "            A[i - 1] = A[i - 1] - a_grad\n",
    "            B[j - 1] = B[j - 1] - b_grad\n",
    "            U[i - 1] = U[i-1] - u_grad\n",
    "            V[j - 1] = V[j-1] - v_grad\n",
    "        #print(A[0:3], B[0:3])\n",
    "            \n",
    "        MSE_after = get_err(U, V, Y, A, B, bias, reg)\n",
    "        difference = MSE_before - MSE_after\n",
    "        if epoch == 0:\n",
    "            epoch1_MSE_diff = difference\n",
    "        if difference/epoch1_MSE_diff <= eps:\n",
    "            break\n",
    "        MSE_before = MSE_after\n",
    "\n",
    "    return U, V, MSE_before, A, B\n"
   ]
  },
  {
   "cell_type": "code",
   "execution_count": 170,
   "metadata": {},
   "outputs": [
    {
     "name": "stdout",
     "output_type": "stream",
     "text": [
      "Training model with M = 943, N = 1682, k = 20, eta = 0.01, reg = 0.1\n"
     ]
    }
   ],
   "source": [
    "M = max(max(Y_train[:,0]), max(Y_test[:,0])).astype(int) # users\n",
    "N = max(max(Y_train[:,1]), max(Y_test[:,1])).astype(int) # movies\n",
    "\n",
    "\n",
    "\n",
    "#U,V, err = train_model(M, N, K, eta, reg, Y_train)\n",
    "\n",
    "\n",
    "\n",
    "#Ks = [10,20,30,50,100]\n",
    "#Ks = [20]\n",
    "k = 20\n",
    "#regs = [10**-4, 10**-3, 10**-2, 10**-1, 1]\n",
    "regs = [0.1]\n",
    "etas = [0.01]\n",
    "#etas = [0.03, 0.01, 0.003, 0.001, 0.0003]  # learning rate\n",
    "#E_ins = []\n",
    "#E_outs = []\n",
    "\n",
    "bias = True\n",
    "# Use to compute Ein and Eout\n",
    "for reg in regs:\n",
    "    #E_ins_for_lambda = []\n",
    "    #E_outs_for_lambda = []\n",
    "\n",
    "    for eta in etas:\n",
    "        print(\"Training model with M = %s, N = %s, k = %s, eta = %s, reg = %s\"%(M, N, k, eta, reg))\n",
    "        U,V, e_in, A, B = train_model(M, N, k, eta, reg, Y_train, bias)\n",
    "        #E_ins_for_lambda.append(e_in)\n",
    "        eout = get_err(U, V, Y_test, A,B, bias)\n",
    "        #E_outs_for_lambda.append(eout)\n",
    "\n",
    "    #E_ins.append(E_ins_for_lambda)\n",
    "    #E_outs.append(E_outs_for_lambda)\n",
    "    \n",
    "\n"
   ]
  },
  {
   "cell_type": "code",
   "execution_count": 175,
   "metadata": {},
   "outputs": [
    {
     "name": "stdout",
     "output_type": "stream",
     "text": [
      "(20, 943)\n",
      "(20, 1682)\n",
      "(943,)\n"
     ]
    }
   ],
   "source": [
    "print(np.shape(U))\n",
    "print(np.shape(V))\n",
    "\n",
    "print(np.shape(A))"
   ]
  },
  {
   "cell_type": "code",
   "execution_count": 172,
   "metadata": {},
   "outputs": [],
   "source": [
    "U = np.transpose(U)\n",
    "V = np.transpose(V)"
   ]
  },
  {
   "cell_type": "code",
   "execution_count": 178,
   "metadata": {},
   "outputs": [
    {
     "name": "stdout",
     "output_type": "stream",
     "text": [
      "(943, 1682)\n",
      "(943, 1682)\n"
     ]
    }
   ],
   "source": [
    "res = np.matmul(np.transpose(U), V)\n",
    "\n",
    "A_matrix = np.array([A for i in range(N)])\n",
    "A_matrix = A_matrix.T\n",
    "B_matrix = np.array([B for i in range(M)])\n",
    "\n",
    "\n",
    "print(np.shape(A_matrix))\n",
    "print(np.shape(B_matrix))\n",
    "\n",
    "res = res + A_matrix + B_matrix"
   ]
  },
  {
   "cell_type": "code",
   "execution_count": 180,
   "metadata": {},
   "outputs": [
    {
     "name": "stdout",
     "output_type": "stream",
     "text": [
      "\n",
      "(20, 943) (20, 1682)\n",
      "[[3.89603289 3.26821293 3.48506099 ... 2.03771279 2.72371365 3.04724427]\n",
      " [3.91895278 3.18835032 3.05960131 ... 2.01053205 3.09747538 3.10298737]\n",
      " [3.19641482 2.73265403 3.07603143 ... 1.80326453 2.24342151 2.42899552]\n",
      " ...\n",
      " [4.19514189 3.59663948 3.45401519 ... 2.10403867 3.15556869 3.26764195]\n",
      " [4.43923454 3.89009367 3.33277563 ... 2.1134438  3.18875053 3.30116883]\n",
      " [3.80078872 3.4537696  3.02230594 ... 2.25929151 2.69549258 2.9481679 ]]\n",
      "-2.062541813841278\n",
      "[[False False False ... False False False]\n",
      " [False False False ... False False False]\n",
      " [False False False ... False False False]\n",
      " ...\n",
      " [False False False ... False False False]\n",
      " [False False False ... False False False]\n",
      " [False False False ... False False False]]\n",
      "64273\n",
      "(943, 1682)\n"
     ]
    }
   ],
   "source": [
    "print()\n",
    "print(np.shape(U), (np.shape(V)))\n",
    "\n",
    "print(res)\n",
    "print(np.min(res))\n",
    "\n",
    "print(res < 1)\n",
    "print(np.sum(res < 1))\n",
    "print(np.shape(res))\n",
    "\n",
    "#print(E_ins, E_outs)\n"
   ]
  },
  {
   "cell_type": "code",
   "execution_count": 181,
   "metadata": {},
   "outputs": [],
   "source": [
    "A1,S,B1 = np.linalg.svd(V)"
   ]
  },
  {
   "cell_type": "code",
   "execution_count": 183,
   "metadata": {},
   "outputs": [
    {
     "name": "stdout",
     "output_type": "stream",
     "text": [
      "[65.98436896 18.13410718 12.74515856 12.40065863 11.24068986 11.02905507\n",
      " 10.71098283 10.48645608 10.32876307 10.12847119  9.95621745  9.64352866\n",
      "  9.44171677  9.33087909  9.08689819  8.98954173  8.77830343  8.73062458\n",
      "  8.53875095  8.13807099]\n",
      "(2, 943)\n",
      "(2, 1682)\n"
     ]
    }
   ],
   "source": [
    "print(S)\n",
    "#print(np.shape(A))\n",
    "\n",
    "U_tilde = np.matmul(np.transpose(A1)[0:2, :], U)\n",
    "V_tilde = np.matmul(np.transpose(A1)[0:2, :], V)\n",
    "\n",
    "print(np.shape(U_tilde))\n",
    "print(np.shape(V_tilde))"
   ]
  },
  {
   "cell_type": "code",
   "execution_count": 184,
   "metadata": {},
   "outputs": [
    {
     "name": "stdout",
     "output_type": "stream",
     "text": [
      "[[ 1.96737858  1.6663133   1.64665517 ...  0.73587621  1.18373253\n",
      "   1.147182  ]\n",
      " [-0.31966265 -0.47559624 -0.1965795  ... -0.010684    0.13686825\n",
      "   0.25836871]]\n"
     ]
    }
   ],
   "source": [
    "print(V_tilde)"
   ]
  },
  {
   "cell_type": "code",
   "execution_count": 200,
   "metadata": {},
   "outputs": [
    {
     "data": {
      "image/png": "[encoded data removed]",
      "text/plain": [
       "<Figure size 432x288 with 1 Axes>"
      ]
     },
     "metadata": {
      "needs_background": "light"
     },
     "output_type": "display_data"
    }
   ],
   "source": [
    "# 10 Most Popular Movies - SGD U and V with Biases\n",
    "ten_popular_indices = np.array([50.0, 258.0, 100.0, 181.0, 294.0, 286.0, 288.0, 1.0, 300.0, 121.0]) - 1\n",
    "ten_popular_indices = ten_popular_indices.astype(int)\n",
    "\n",
    "ten_popular_movies = {0: 'Toy Story', 49 : 'Star Wars', 99 : 'Fargo', 120 : 'Independence Day', 180 : 'Return of the Jedi', 257 : 'Contact', 285 : 'The English Patient', 287 : 'Scream', 293 : 'Liar Liar', 299 : 'Air Force One'}\n",
    "\n",
    "\n",
    "# x = []\n",
    "# y = []\n",
    "# for i in ten_popular_indices:\n",
    "#     x.append(V_tilde[0][i])\n",
    "#     y.append(V_tilde[1][i])\n",
    "\n",
    "\n",
    "# sns.scatterplot(x, y)\n",
    "\n",
    "    \n",
    "scatter_with_labels(ten_popular_movies, V_tilde, '10 Most Popular Movies')"
   ]
  },
  {
   "cell_type": "code",
   "execution_count": 206,
   "metadata": {},
   "outputs": [
    {
     "data": {
      "image/png": "[encoded data removed]",
      "text/plain": [
       "<Figure size 432x288 with 1 Axes>"
      ]
     },
     "metadata": {
      "needs_background": "light"
     },
     "output_type": "display_data"
    }
   ],
   "source": [
    "# 10 Highest Rated Movies - SGD U and V with Biases\n",
    "ten_best_indices = [1201.0, 1122.0, 1467.0, 1653.0, 1599.0, 1293.0, 1536.0, 814.0, 1500.0, 1189.0]\n",
    "ten_best_movies = {813 : 'Great Day in Harlem', 1121 : 'They Made Me a Criminal', 1188 : 'Prefontaine', 1200 : 'Marlene Dietrich : Shadow and Light', 1292 : 'Star Kid', 1466 : 'Saint of Fort Washington', 1499 : 'Santa with Muscles', 1535 : 'Aiqing Wansui', 1598 : 'Someone Else\\'s America', 1653 : 'Entertaining Angels: The Dorothy Day Story'}\n",
    "\n",
    "scatter_with_labels(ten_best_movies, V_tilde, '10 Highest Rated Movies')"
   ]
  },
  {
   "cell_type": "code",
   "execution_count": 202,
   "metadata": {},
   "outputs": [
    {
     "name": "stdout",
     "output_type": "stream",
     "text": [
      "{1201.0: 0, 1122.0: 0, 1467.0: 0, 1653.0: 0, 1599.0: 0, 1293.0: 0, 1536.0: 0, 814.0: 0, 1500.0: 0, 1189.0: 0}\n"
     ]
    }
   ],
   "source": [
    "ten_best_movies = {}"
   ]
  },
  {
   "cell_type": "code",
   "execution_count": 186,
   "metadata": {},
   "outputs": [
    {
     "data": {
      "text/plain": [
       "1.666313304622109"
      ]
     },
     "execution_count": 186,
     "metadata": {},
     "output_type": "execute_result"
    }
   ],
   "source": [
    "V_tilde[0][1]"
   ]
  },
  {
   "cell_type": "code",
   "execution_count": 194,
   "metadata": {},
   "outputs": [
    {
     "name": "stdout",
     "output_type": "stream",
     "text": [
      "The Shining\n"
     ]
    },
    {
     "data": {
      "image/png": "[encoded data removed]",
      "text/plain": [
       "<Figure size 432x288 with 1 Axes>"
      ]
     },
     "metadata": {
      "needs_background": "light"
     },
     "output_type": "display_data"
    }
   ],
   "source": [
    "horror_comedy = {218: \"Nightmare on Elm Street\", 199: \"The Shining\", 233: \"Jaws\", 894: \"Scream 2\", 615: \"Night of the Living Dead\", 201: \"Groudhog Day\", 167: \"Monty Python and the Holy Grail\", 93: \"Home Alone\", 410: \"Nutty Professor\",694: \"Kicking and Screaming\" }\n",
    "\n",
    "x = []\n",
    "y = []\n",
    "for i in horror_comedy.keys():\n",
    "    x.append(V_tilde[0][i])\n",
    "    y.append(V_tilde[1][i])\n",
    "    \n",
    "#print(horror_comedy.values())\n",
    "    \n",
    "df = pd.DataFrame({'x': x, 'y' : y, 'movie_names' : list(horror_comedy.values())})\n",
    "#sns.scatterplot(x, y)\n",
    "\n",
    "pl = sns.regplot(data=df, x=\"x\", y=\"y\", fit_reg=False, marker=\".\", color=\"blue\"\n",
    ")\n",
    "for line in range(0,df.shape[0]):\n",
    "     pl.text(df.x[line]+0.05, df.y[line], df.movie_names[line], horizontalalignment='left', size='medium', color='black', weight='semibold')\n",
    "\n",
    "print(df.movie_names[1])\n",
    "#print(x, y)"
   ]
  },
  {
   "cell_type": "code",
   "execution_count": 195,
   "metadata": {},
   "outputs": [],
   "source": [
    "def scatter_with_labels(label_dict, V_tilde, title):\n",
    "    x = []\n",
    "    y = []\n",
    "    for i in label_dict.keys():\n",
    "        x.append(V_tilde[0][i])\n",
    "        y.append(V_tilde[1][i])\n",
    "\n",
    "    #print(horror_comedy.values())\n",
    "\n",
    "    df = pd.DataFrame({'x': x, 'y' : y, 'movie_names' : list(label_dict.values())})\n",
    "    #sns.scatterplot(x, y)\n",
    "\n",
    "    pl = sns.regplot(data=df, x=\"x\", y=\"y\", fit_reg=False, marker=\".\", color=\"blue\"\n",
    "    )\n",
    "    pl.set_title(title)\n",
    "    for line in range(0,df.shape[0]):\n",
    "         pl.text(df.x[line]+0.05, df.y[line], df.movie_names[line], horizontalalignment='left', size='medium', color='black', weight='semibold')\n",
    "\n"
   ]
  },
  {
   "cell_type": "code",
   "execution_count": 197,
   "metadata": {},
   "outputs": [
    {
     "data": {
      "image/png": "[encoded data removed]",
      "text/plain": [
       "<Figure size 432x288 with 1 Axes>"
      ]
     },
     "metadata": {
      "needs_background": "light"
     },
     "output_type": "display_data"
    }
   ],
   "source": [
    "star_wars_indices = {49: 'Star Wars', 180: 'Return of the jedi', 171: 'Empire Strikes Back', 0: 'Toy Story', 134: '2001: Space Odyssey', 152 : 'A Fish Called Wanda'}\n",
    "\n",
    "scatter_with_labels(star_wars_indices, V_tilde, 'Some Shit Movies')"
   ]
  },
  {
   "cell_type": "code",
   "execution_count": null,
   "metadata": {},
   "outputs": [],
   "source": []
  }
 ],
 "metadata": {
  "kernelspec": {
   "display_name": "Python 3",
   "language": "python",
   "name": "python3"
  },
  "language_info": {
   "codemirror_mode": {
    "name": "ipython",
    "version": 3
   },
   "file_extension": ".py",
   "mimetype": "text/x-python",
   "name": "python",
   "nbconvert_exporter": "python",
   "pygments_lexer": "ipython3",
   "version": "3.7.2"
  }
 },
 "nbformat": 4,
 "nbformat_minor": 2
}
