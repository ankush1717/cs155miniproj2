{
 "cells": [
  {
   "cell_type": "code",
   "execution_count": 1,
   "metadata": {},
   "outputs": [],
   "source": [
    "import numpy as np\n",
    "import seaborn as sns\n",
    "import pandas as pd\n",
    "import matplotlib.pyplot as plt\n",
    "\n"
   ]
  },
  {
   "cell_type": "code",
   "execution_count": 97,
   "metadata": {},
   "outputs": [
    {
     "ename": "UnicodeDecodeError",
     "evalue": "'utf-8' codec can't decode byte 0xe9 in position 3532: invalid continuation byte",
     "output_type": "error",
     "traceback": [
      "\u001b[0;31m---------------------------------------------------------------------------\u001b[0m",
      "\u001b[0;31mUnicodeDecodeError\u001b[0m                        Traceback (most recent call last)",
      "\u001b[0;32m<ipython-input-97-81cfbc1c02e4>\u001b[0m in \u001b[0;36m<module>\u001b[0;34m()\u001b[0m\n\u001b[1;32m      1\u001b[0m \u001b[0mdata\u001b[0m \u001b[0;34m=\u001b[0m \u001b[0mnp\u001b[0m\u001b[0;34m.\u001b[0m\u001b[0mloadtxt\u001b[0m\u001b[0;34m(\u001b[0m\u001b[0;34m'data.txt'\u001b[0m\u001b[0;34m)\u001b[0m\u001b[0;34m\u001b[0m\u001b[0;34m\u001b[0m\u001b[0m\n\u001b[1;32m      2\u001b[0m \u001b[0;34m\u001b[0m\u001b[0m\n\u001b[0;32m----> 3\u001b[0;31m \u001b[0mmovies\u001b[0m \u001b[0;34m=\u001b[0m \u001b[0mnp\u001b[0m\u001b[0;34m.\u001b[0m\u001b[0mloadtxt\u001b[0m\u001b[0;34m(\u001b[0m\u001b[0;34m'movies.txt'\u001b[0m\u001b[0;34m,\u001b[0m \u001b[0mdelimiter\u001b[0m\u001b[0;34m=\u001b[0m\u001b[0;34m\"\\t\"\u001b[0m\u001b[0;34m,\u001b[0m \u001b[0musecols\u001b[0m \u001b[0;34m=\u001b[0m \u001b[0;34m(\u001b[0m\u001b[0;36m0\u001b[0m\u001b[0;34m,\u001b[0m\u001b[0;36m2\u001b[0m\u001b[0;34m,\u001b[0m\u001b[0;36m3\u001b[0m\u001b[0;34m,\u001b[0m\u001b[0;36m4\u001b[0m\u001b[0;34m,\u001b[0m\u001b[0;36m5\u001b[0m\u001b[0;34m,\u001b[0m\u001b[0;36m6\u001b[0m\u001b[0;34m,\u001b[0m\u001b[0;36m7\u001b[0m\u001b[0;34m,\u001b[0m\u001b[0;36m8\u001b[0m\u001b[0;34m,\u001b[0m\u001b[0;36m9\u001b[0m\u001b[0;34m,\u001b[0m\u001b[0;36m10\u001b[0m\u001b[0;34m,\u001b[0m\u001b[0;36m11\u001b[0m\u001b[0;34m,\u001b[0m\u001b[0;36m12\u001b[0m\u001b[0;34m,\u001b[0m\u001b[0;36m13\u001b[0m\u001b[0;34m,\u001b[0m\u001b[0;36m14\u001b[0m\u001b[0;34m,\u001b[0m\u001b[0;36m15\u001b[0m\u001b[0;34m,\u001b[0m\u001b[0;36m16\u001b[0m\u001b[0;34m,\u001b[0m\u001b[0;36m17\u001b[0m\u001b[0;34m,\u001b[0m\u001b[0;36m18\u001b[0m\u001b[0;34m,\u001b[0m\u001b[0;36m19\u001b[0m\u001b[0;34m,\u001b[0m\u001b[0;36m20\u001b[0m\u001b[0;34m)\u001b[0m\u001b[0;34m)\u001b[0m\u001b[0;34m\u001b[0m\u001b[0;34m\u001b[0m\u001b[0m\n\u001b[0m\u001b[1;32m      4\u001b[0m \u001b[0mratings\u001b[0m \u001b[0;34m=\u001b[0m \u001b[0mnp\u001b[0m\u001b[0;34m.\u001b[0m\u001b[0marray\u001b[0m\u001b[0;34m(\u001b[0m\u001b[0mdata\u001b[0m\u001b[0;34m[\u001b[0m\u001b[0;34m:\u001b[0m\u001b[0;34m,\u001b[0m \u001b[0;36m2\u001b[0m\u001b[0;34m]\u001b[0m\u001b[0;34m)\u001b[0m\u001b[0;34m\u001b[0m\u001b[0;34m\u001b[0m\u001b[0m\n\u001b[1;32m      5\u001b[0m \u001b[0msns\u001b[0m\u001b[0;34m.\u001b[0m\u001b[0mdistplot\u001b[0m\u001b[0;34m(\u001b[0m\u001b[0mratings\u001b[0m\u001b[0;34m,\u001b[0m \u001b[0mkde\u001b[0m\u001b[0;34m=\u001b[0m\u001b[0;36m0\u001b[0m\u001b[0;34m)\u001b[0m\u001b[0;34m\u001b[0m\u001b[0;34m\u001b[0m\u001b[0m\n",
      "\u001b[0;32m/usr/local/lib/python3.7/site-packages/numpy/lib/npyio.py\u001b[0m in \u001b[0;36mloadtxt\u001b[0;34m(fname, dtype, comments, delimiter, converters, skiprows, usecols, unpack, ndmin, encoding)\u001b[0m\n\u001b[1;32m   1099\u001b[0m         \u001b[0;31m# converting the data\u001b[0m\u001b[0;34m\u001b[0m\u001b[0;34m\u001b[0m\u001b[0;34m\u001b[0m\u001b[0m\n\u001b[1;32m   1100\u001b[0m         \u001b[0mX\u001b[0m \u001b[0;34m=\u001b[0m \u001b[0;32mNone\u001b[0m\u001b[0;34m\u001b[0m\u001b[0;34m\u001b[0m\u001b[0m\n\u001b[0;32m-> 1101\u001b[0;31m         \u001b[0;32mfor\u001b[0m \u001b[0mx\u001b[0m \u001b[0;32min\u001b[0m \u001b[0mread_data\u001b[0m\u001b[0;34m(\u001b[0m\u001b[0m_loadtxt_chunksize\u001b[0m\u001b[0;34m)\u001b[0m\u001b[0;34m:\u001b[0m\u001b[0;34m\u001b[0m\u001b[0;34m\u001b[0m\u001b[0m\n\u001b[0m\u001b[1;32m   1102\u001b[0m             \u001b[0;32mif\u001b[0m \u001b[0mX\u001b[0m \u001b[0;32mis\u001b[0m \u001b[0;32mNone\u001b[0m\u001b[0;34m:\u001b[0m\u001b[0;34m\u001b[0m\u001b[0;34m\u001b[0m\u001b[0m\n\u001b[1;32m   1103\u001b[0m                 \u001b[0mX\u001b[0m \u001b[0;34m=\u001b[0m \u001b[0mnp\u001b[0m\u001b[0;34m.\u001b[0m\u001b[0marray\u001b[0m\u001b[0;34m(\u001b[0m\u001b[0mx\u001b[0m\u001b[0;34m,\u001b[0m \u001b[0mdtype\u001b[0m\u001b[0;34m)\u001b[0m\u001b[0;34m\u001b[0m\u001b[0;34m\u001b[0m\u001b[0m\n",
      "\u001b[0;32m/usr/local/lib/python3.7/site-packages/numpy/lib/npyio.py\u001b[0m in \u001b[0;36mread_data\u001b[0;34m(chunk_size)\u001b[0m\n\u001b[1;32m   1014\u001b[0m         \"\"\"\n\u001b[1;32m   1015\u001b[0m         \u001b[0mX\u001b[0m \u001b[0;34m=\u001b[0m \u001b[0;34m[\u001b[0m\u001b[0;34m]\u001b[0m\u001b[0;34m\u001b[0m\u001b[0;34m\u001b[0m\u001b[0m\n\u001b[0;32m-> 1016\u001b[0;31m         \u001b[0;32mfor\u001b[0m \u001b[0mi\u001b[0m\u001b[0;34m,\u001b[0m \u001b[0mline\u001b[0m \u001b[0;32min\u001b[0m \u001b[0menumerate\u001b[0m\u001b[0;34m(\u001b[0m\u001b[0mitertools\u001b[0m\u001b[0;34m.\u001b[0m\u001b[0mchain\u001b[0m\u001b[0;34m(\u001b[0m\u001b[0;34m[\u001b[0m\u001b[0mfirst_line\u001b[0m\u001b[0;34m]\u001b[0m\u001b[0;34m,\u001b[0m \u001b[0mfh\u001b[0m\u001b[0;34m)\u001b[0m\u001b[0;34m)\u001b[0m\u001b[0;34m:\u001b[0m\u001b[0;34m\u001b[0m\u001b[0;34m\u001b[0m\u001b[0m\n\u001b[0m\u001b[1;32m   1017\u001b[0m             \u001b[0mvals\u001b[0m \u001b[0;34m=\u001b[0m \u001b[0msplit_line\u001b[0m\u001b[0;34m(\u001b[0m\u001b[0mline\u001b[0m\u001b[0;34m)\u001b[0m\u001b[0;34m\u001b[0m\u001b[0;34m\u001b[0m\u001b[0m\n\u001b[1;32m   1018\u001b[0m             \u001b[0;32mif\u001b[0m \u001b[0mlen\u001b[0m\u001b[0;34m(\u001b[0m\u001b[0mvals\u001b[0m\u001b[0;34m)\u001b[0m \u001b[0;34m==\u001b[0m \u001b[0;36m0\u001b[0m\u001b[0;34m:\u001b[0m\u001b[0;34m\u001b[0m\u001b[0;34m\u001b[0m\u001b[0m\n",
      "\u001b[0;32m/usr/local/Cellar/python/3.7.2_1/Frameworks/Python.framework/Versions/3.7/lib/python3.7/codecs.py\u001b[0m in \u001b[0;36mdecode\u001b[0;34m(self, input, final)\u001b[0m\n\u001b[1;32m    320\u001b[0m         \u001b[0;31m# decode input (taking the buffer into account)\u001b[0m\u001b[0;34m\u001b[0m\u001b[0;34m\u001b[0m\u001b[0;34m\u001b[0m\u001b[0m\n\u001b[1;32m    321\u001b[0m         \u001b[0mdata\u001b[0m \u001b[0;34m=\u001b[0m \u001b[0mself\u001b[0m\u001b[0;34m.\u001b[0m\u001b[0mbuffer\u001b[0m \u001b[0;34m+\u001b[0m \u001b[0minput\u001b[0m\u001b[0;34m\u001b[0m\u001b[0;34m\u001b[0m\u001b[0m\n\u001b[0;32m--> 322\u001b[0;31m         \u001b[0;34m(\u001b[0m\u001b[0mresult\u001b[0m\u001b[0;34m,\u001b[0m \u001b[0mconsumed\u001b[0m\u001b[0;34m)\u001b[0m \u001b[0;34m=\u001b[0m \u001b[0mself\u001b[0m\u001b[0;34m.\u001b[0m\u001b[0m_buffer_decode\u001b[0m\u001b[0;34m(\u001b[0m\u001b[0mdata\u001b[0m\u001b[0;34m,\u001b[0m \u001b[0mself\u001b[0m\u001b[0;34m.\u001b[0m\u001b[0merrors\u001b[0m\u001b[0;34m,\u001b[0m \u001b[0mfinal\u001b[0m\u001b[0;34m)\u001b[0m\u001b[0;34m\u001b[0m\u001b[0;34m\u001b[0m\u001b[0m\n\u001b[0m\u001b[1;32m    323\u001b[0m         \u001b[0;31m# keep undecoded input until the next call\u001b[0m\u001b[0;34m\u001b[0m\u001b[0;34m\u001b[0m\u001b[0;34m\u001b[0m\u001b[0m\n\u001b[1;32m    324\u001b[0m         \u001b[0mself\u001b[0m\u001b[0;34m.\u001b[0m\u001b[0mbuffer\u001b[0m \u001b[0;34m=\u001b[0m \u001b[0mdata\u001b[0m\u001b[0;34m[\u001b[0m\u001b[0mconsumed\u001b[0m\u001b[0;34m:\u001b[0m\u001b[0;34m]\u001b[0m\u001b[0;34m\u001b[0m\u001b[0;34m\u001b[0m\u001b[0m\n",
      "\u001b[0;31mUnicodeDecodeError\u001b[0m: 'utf-8' codec can't decode byte 0xe9 in position 3532: invalid continuation byte"
     ]
    }
   ],
   "source": [
    "data = np.loadtxt('data.txt')\n",
    "\n",
    "\n",
    "# for line in file \n",
    "# movies = np.loadtxt('movies.txt', delimiter=\"\\t\", usecols = (0,2,3,4,5,6,7,8,9,10,11,12,13,14,15,16,17,18,19,20))\n",
    "ratings = np.array(data[:, 2])\n",
    "sns.distplot(ratings, kde=0)\n",
    "\n",
    "# for line in i\n",
    "\n",
    "#plt.hist(ratings)\n",
    "\n"
   ]
  },
  {
   "cell_type": "code",
   "execution_count": 35,
   "metadata": {},
   "outputs": [],
   "source": [
    "movie_counts = {}\n",
    "\n",
    "for elem in movie_indices:\n",
    "    if elem not in movie_counts:\n",
    "        movie_counts[elem] = 1\n",
    "    else:\n",
    "        movie_counts[elem] += 1\n",
    "\n"
   ]
  },
  {
   "cell_type": "code",
   "execution_count": 46,
   "metadata": {},
   "outputs": [],
   "source": [
    "top_ten  = sorted(movie_counts, key=lambda x: movie_counts[x])[::-1][:10]\n"
   ]
  },
  {
   "cell_type": "code",
   "execution_count": 47,
   "metadata": {},
   "outputs": [
    {
     "name": "stdout",
     "output_type": "stream",
     "text": [
      "10\n"
     ]
    }
   ],
   "source": [
    "print(len(top_ten))"
   ]
  },
  {
   "cell_type": "code",
   "execution_count": 48,
   "metadata": {},
   "outputs": [],
   "source": [
    "top_ten_data = []\n",
    "\n",
    "for i in range(len(movie_indices)):\n",
    "    if movie_indices[i] in top_ten:\n",
    "        top_ten_data.append(ratings[i])\n",
    "        \n",
    "\n",
    "\n"
   ]
  },
  {
   "cell_type": "code",
   "execution_count": 49,
   "metadata": {},
   "outputs": [
    {
     "name": "stderr",
     "output_type": "stream",
     "text": [
      "/usr/local/lib/python3.7/site-packages/scipy/stats/stats.py:1713: FutureWarning: Using a non-tuple sequence for multidimensional indexing is deprecated; use `arr[tuple(seq)]` instead of `arr[seq]`. In the future this will be interpreted as an array index, `arr[np.array(seq)]`, which will result either in an error or a different result.\n",
      "  return np.add.reduce(sorted[indexer] * weights, axis=axis) / sumval\n"
     ]
    },
    {
     "data": {
      "text/plain": [
       "<matplotlib.axes._subplots.AxesSubplot at 0x1266c28d0>"
      ]
     },
     "execution_count": 49,
     "metadata": {},
     "output_type": "execute_result"
    },
    {
     "data": {
      "image/png": "[encoded data removed]",
      "text/plain": [
       "<Figure size 432x288 with 1 Axes>"
      ]
     },
     "metadata": {
      "needs_background": "light"
     },
     "output_type": "display_data"
    }
   ],
   "source": [
    "sns.distplot(top_ten_data, kde=0)"
   ]
  },
  {
   "cell_type": "code",
   "execution_count": 85,
   "metadata": {},
   "outputs": [],
   "source": [
    "averages = {}\n",
    "\n",
    "for i in range(len(movie_indices)):\n",
    "    elem = movie_indices[i]\n",
    "    if elem not in averages:\n",
    "        averages[elem] = ratings[i]\n",
    "    else:\n",
    "        averages[elem] += ratings[i]\n",
    "\n",
    "for elem in averages:\n",
    "    averages[elem] /= movie_counts[elem]\n",
    "\n",
    "\n"
   ]
  },
  {
   "cell_type": "code",
   "execution_count": 86,
   "metadata": {},
   "outputs": [],
   "source": [
    "top_ten_averages = sorted(averages, key=lambda x: averages[x])[::-1][:10]\n",
    "\n"
   ]
  },
  {
   "cell_type": "code",
   "execution_count": 88,
   "metadata": {},
   "outputs": [
    {
     "name": "stderr",
     "output_type": "stream",
     "text": [
      "/usr/local/lib/python3.7/site-packages/scipy/stats/stats.py:1713: FutureWarning: Using a non-tuple sequence for multidimensional indexing is deprecated; use `arr[tuple(seq)]` instead of `arr[seq]`. In the future this will be interpreted as an array index, `arr[np.array(seq)]`, which will result either in an error or a different result.\n",
      "  return np.add.reduce(sorted[indexer] * weights, axis=axis) / sumval\n"
     ]
    },
    {
     "data": {
      "text/plain": [
       "<matplotlib.axes._subplots.AxesSubplot at 0x126b97240>"
      ]
     },
     "execution_count": 88,
     "metadata": {},
     "output_type": "execute_result"
    },
    {
     "data": {
      "image/png": "[encoded data removed]",
      "text/plain": [
       "<Figure size 432x288 with 1 Axes>"
      ]
     },
     "metadata": {
      "needs_background": "light"
     },
     "output_type": "display_data"
    }
   ],
   "source": [
    "top_ten_average_data = []\n",
    "\n",
    "for i in range(len(movie_indices)):\n",
    "    if movie_indices[i] in top_ten_averages:\n",
    "        top_ten_average_data.append(ratings[i])\n",
    "        \n",
    "sns.distplot(top_ten_average_data, kde=0)"
   ]
  },
  {
   "cell_type": "code",
   "execution_count": 93,
   "metadata": {},
   "outputs": [
    {
     "name": "stdout",
     "output_type": "stream",
     "text": [
      "         1  0  0.1  0.2  1.1  1.2  1.3  0.3  0.4  0.5  0.6  0.7  0.8  0.9  \\\n",
      "0        2  0    1    1    0    0    0    0    0    0    0    0    0    0   \n",
      "1        3  0    0    0    0    0    0    0    0    0    0    0    0    0   \n",
      "2        4  0    1    0    0    0    1    0    0    1    0    0    0    0   \n",
      "3        5  0    0    0    0    0    0    1    0    1    0    0    0    0   \n",
      "4        6  0    0    0    0    0    0    0    0    1    0    0    0    0   \n",
      "5        7  0    0    0    0    0    0    0    0    1    0    0    0    0   \n",
      "6        8  0    0    0    0    1    1    0    0    1    0    0    0    0   \n",
      "7        9  0    0    0    0    0    0    0    0    1    0    0    0    0   \n",
      "8       10  0    0    0    0    0    0    0    0    1    0    0    0    0   \n",
      "9       11  0    0    0    0    0    0    1    0    0    0    0    0    0   \n",
      "10      12  0    0    0    0    0    0    1    0    0    0    0    0    0   \n",
      "11      13  0    0    0    0    0    1    0    0    0    0    0    0    0   \n",
      "12      14  0    0    0    0    0    0    0    0    1    0    0    0    0   \n",
      "13      15  0    0    0    0    0    0    0    0    1    0    0    0    0   \n",
      "14      16  0    0    0    0    0    1    0    0    0    0    0    0    0   \n",
      "15      17  0    1    0    0    0    1    1    0    0    0    0    1    0   \n",
      "16      18  0    0    0    0    0    0    0    0    1    0    0    0    0   \n",
      "17      19  0    0    0    0    0    0    0    0    1    0    0    0    0   \n",
      "18      20  0    0    0    0    0    0    0    0    1    0    0    0    0   \n",
      "19      21  0    1    1    0    0    1    0    0    0    0    0    0    1   \n",
      "20      22  0    1    0    0    0    0    0    0    1    0    0    0    0   \n",
      "21      23  0    0    0    0    0    0    0    0    1    0    0    0    0   \n",
      "22      24  0    1    1    0    0    0    1    0    0    0    0    0    0   \n",
      "23      25  0    0    0    0    0    1    0    0    0    0    0    0    0   \n",
      "24      26  0    0    0    0    0    1    0    0    0    0    0    0    0   \n",
      "25      27  0    1    0    0    0    0    0    0    0    0    0    0    0   \n",
      "26      28  0    1    0    0    0    0    0    0    1    0    0    0    0   \n",
      "27      29  0    1    1    0    0    1    1    0    0    0    0    0    0   \n",
      "28      30  0    0    0    0    0    0    0    0    1    0    0    0    0   \n",
      "29      31  0    0    0    0    0    0    0    0    1    0    0    0    0   \n",
      "...    ... ..  ...  ...  ...  ...  ...  ...  ...  ...  ...  ...  ...  ...   \n",
      "1651  1653  0    0    0    0    0    0    0    0    1    0    0    0    0   \n",
      "1652  1654  0    0    0    0    0    1    0    0    0    0    0    0    0   \n",
      "1653  1655  0    0    0    0    0    1    0    0    0    0    0    0    0   \n",
      "1654  1656  0    0    0    0    0    1    0    0    0    0    0    0    0   \n",
      "1655  1657  0    1    0    0    0    0    0    0    1    0    0    0    0   \n",
      "1656  1658  0    0    0    0    0    0    0    0    1    0    0    0    0   \n",
      "1657  1659  0    0    0    0    0    1    0    0    0    0    0    0    0   \n",
      "1658  1660  0    0    0    0    0    0    0    0    1    0    0    0    0   \n",
      "1659  1661  0    0    0    0    0    0    0    0    1    0    0    0    0   \n",
      "1660  1662  0    0    0    0    0    0    0    0    1    0    0    0    0   \n",
      "1661  1663  0    0    0    0    0    0    0    0    1    0    0    0    0   \n",
      "1662  1664  0    0    0    0    0    1    0    0    0    0    0    0    0   \n",
      "1663  1665  0    0    0    0    0    0    0    0    1    0    0    0    0   \n",
      "1664  1666  0    0    0    0    0    0    0    0    1    0    0    0    0   \n",
      "1665  1667  0    0    0    0    0    0    0    0    1    0    0    0    0   \n",
      "1666  1668  0    0    0    0    0    1    0    0    0    0    0    0    0   \n",
      "1667  1669  0    0    0    0    0    0    1    0    1    0    0    0    0   \n",
      "1668  1670  0    0    0    0    0    1    0    0    0    0    0    0    0   \n",
      "1669  1671  0    0    0    0    0    0    0    0    1    0    0    0    0   \n",
      "1670  1672  0    0    0    0    0    0    0    0    1    0    0    0    0   \n",
      "1671  1673  0    1    0    0    0    0    0    0    0    0    0    0    0   \n",
      "1672  1674  0    0    0    0    0    0    0    0    1    0    0    0    0   \n",
      "1673  1675  0    0    0    0    0    0    0    0    1    0    0    0    0   \n",
      "1674  1676  0    0    0    0    0    0    0    0    1    0    0    0    0   \n",
      "1675  1677  0    0    0    0    0    0    0    0    1    0    0    0    0   \n",
      "1676  1678  0    0    0    0    0    0    0    0    1    0    0    0    0   \n",
      "1677  1679  0    0    0    0    0    0    0    0    0    0    0    0    0   \n",
      "1678  1680  0    0    0    0    0    0    0    0    1    0    0    0    0   \n",
      "1679  1681  0    0    0    0    0    1    0    0    0    0    0    0    0   \n",
      "1680  1682  0    0    0    0    0    0    0    0    1    0    0    0    0   \n",
      "\n",
      "      0.10  0.11  0.12  0.13  0.14  0.15  \n",
      "0        0     0     0     1     0     0  \n",
      "1        0     0     0     1     0     0  \n",
      "2        0     0     0     0     0     0  \n",
      "3        0     0     0     1     0     0  \n",
      "4        0     0     0     0     0     0  \n",
      "5        0     0     1     0     0     0  \n",
      "6        0     0     0     0     0     0  \n",
      "7        0     0     0     0     0     0  \n",
      "8        0     0     0     0     1     0  \n",
      "9        0     0     0     1     0     0  \n",
      "10       0     0     0     1     0     0  \n",
      "11       0     0     0     0     0     0  \n",
      "12       0     1     0     0     0     0  \n",
      "13       0     0     0     0     0     0  \n",
      "14       0     1     0     0     0     0  \n",
      "15       0     0     0     1     0     0  \n",
      "16       0     0     0     0     0     0  \n",
      "17       0     0     0     0     0     0  \n",
      "18       0     1     0     0     0     0  \n",
      "19       0     0     0     1     0     0  \n",
      "20       0     0     0     0     1     0  \n",
      "21       0     0     0     1     0     0  \n",
      "22       0     0     0     0     0     0  \n",
      "23       0     0     0     0     0     0  \n",
      "24       0     0     0     0     0     0  \n",
      "25       0     0     0     0     0     0  \n",
      "26       0     0     0     1     0     0  \n",
      "27       0     0     0     0     0     0  \n",
      "28       0     0     0     0     0     0  \n",
      "29       0     0     0     1     1     0  \n",
      "...    ...   ...   ...   ...   ...   ...  \n",
      "1651     0     0     0     0     0     0  \n",
      "1652     0     0     0     0     0     0  \n",
      "1653     0     1     0     0     0     0  \n",
      "1654     0     1     0     0     0     0  \n",
      "1655     0     0     0     0     0     0  \n",
      "1656     0     0     0     0     0     0  \n",
      "1657     0     0     0     0     0     0  \n",
      "1658     0     0     0     0     0     0  \n",
      "1659     0     0     0     0     0     0  \n",
      "1660     0     1     0     0     0     0  \n",
      "1661     0     0     0     0     1     0  \n",
      "1662     0     0     0     0     0     0  \n",
      "1663     0     0     0     0     0     0  \n",
      "1664     0     0     0     0     0     0  \n",
      "1665     0     0     0     0     0     0  \n",
      "1666     0     0     0     0     0     0  \n",
      "1667     1     0     0     0     0     0  \n",
      "1668     0     0     0     1     0     0  \n",
      "1669     0     0     0     0     0     0  \n",
      "1670     0     0     0     0     0     0  \n",
      "1671     0     0     0     1     0     0  \n",
      "1672     0     0     0     0     0     0  \n",
      "1673     0     0     0     0     0     0  \n",
      "1674     0     0     0     0     0     0  \n",
      "1675     0     0     0     0     0     0  \n",
      "1676     0     0     0     0     0     0  \n",
      "1677     0     1     0     1     0     0  \n",
      "1678     0     1     0     0     0     0  \n",
      "1679     0     0     0     0     0     0  \n",
      "1680     0     0     0     0     0     0  \n",
      "\n",
      "[1681 rows x 20 columns]\n"
     ]
    }
   ],
   "source": [
    "genres = [3,13,17]\n",
    "\n",
    "print(movies)"
   ]
  },
  {
   "cell_type": "code",
   "execution_count": null,
   "metadata": {},
   "outputs": [],
   "source": []
  }
 ],
 "metadata": {
  "kernelspec": {
   "display_name": "Python 3",
   "language": "python",
   "name": "python3"
  },
  "language_info": {
   "codemirror_mode": {
    "name": "ipython",
    "version": 3
   },
   "file_extension": ".py",
   "mimetype": "text/x-python",
   "name": "python",
   "nbconvert_exporter": "python",
   "pygments_lexer": "ipython3",
   "version": "3.7.2"
  }
 },
 "nbformat": 4,
 "nbformat_minor": 2
}
